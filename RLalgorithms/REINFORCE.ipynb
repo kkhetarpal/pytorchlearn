{
  "nbformat": 4,
  "nbformat_minor": 0,
  "metadata": {
    "colab": {
      "name": "REINFORCE.ipynb",
      "version": "0.3.2",
      "views": {},
      "default_view": {},
      "provenance": [],
      "collapsed_sections": []
    },
    "kernelspec": {
      "name": "python3",
      "display_name": "Python 3"
    },
    "accelerator": "GPU"
  },
  "cells": [
    {
      "metadata": {
        "id": "zCtmain6h0cA",
        "colab_type": "code",
        "colab": {
          "autoexec": {
            "startup": false,
            "wait_interval": 0
          },
          "base_uri": "https://localhost:8080/",
          "height": 544
        },
        "outputId": "611a5993-e9ad-45ad-bdeb-684eb165b061",
        "executionInfo": {
          "status": "ok",
          "timestamp": 1524540614767,
          "user_tz": 240,
          "elapsed": 43209,
          "user": {
            "displayName": "Khimya Khetarpal",
            "photoUrl": "//lh4.googleusercontent.com/-N2vm2KOF7iE/AAAAAAAAAAI/AAAAAAAACL8/3K7KcnaQmY0/s50-c-k-no/photo.jpg",
            "userId": "111336538593611088506"
          }
        }
      },
      "cell_type": "code",
      "source": [
        "!pip install gym\n",
        "!pip3 install http://download.pytorch.org/whl/cu80/torch-0.3.0.post4-cp36-cp36m-linux_x86_64.whl "
      ],
      "execution_count": 2,
      "outputs": [
        {
          "output_type": "stream",
          "text": [
            "Collecting gym\n",
            "  Downloading https://files.pythonhosted.org/packages/9b/50/ed4a03d2be47ffd043be2ee514f329ce45d98a30fe2d1b9c61dea5a9d861/gym-0.10.5.tar.gz (1.5MB)\n",
            "\u001b[K    100% |████████████████████████████████| 1.5MB 672kB/s \n",
            "\u001b[?25hRequirement already satisfied: numpy>=1.10.4 in /usr/local/lib/python3.6/dist-packages (from gym)\n",
            "Requirement already satisfied: requests>=2.0 in /usr/local/lib/python3.6/dist-packages (from gym)\n",
            "Requirement already satisfied: six in /usr/local/lib/python3.6/dist-packages (from gym)\n",
            "Collecting pyglet>=1.2.0 (from gym)\n",
            "  Downloading https://files.pythonhosted.org/packages/1c/fc/dad5eaaab68f0c21e2f906a94ddb98175662cc5a654eee404d59554ce0fa/pyglet-1.3.2-py2.py3-none-any.whl (1.0MB)\n",
            "\u001b[K    100% |████████████████████████████████| 1.0MB 1.1MB/s \n",
            "\u001b[?25hRequirement already satisfied: certifi>=2017.4.17 in /usr/local/lib/python3.6/dist-packages (from requests>=2.0->gym)\n",
            "Requirement already satisfied: urllib3<1.23,>=1.21.1 in /usr/local/lib/python3.6/dist-packages (from requests>=2.0->gym)\n",
            "Requirement already satisfied: idna<2.7,>=2.5 in /usr/local/lib/python3.6/dist-packages (from requests>=2.0->gym)\n",
            "Requirement already satisfied: chardet<3.1.0,>=3.0.2 in /usr/local/lib/python3.6/dist-packages (from requests>=2.0->gym)\n",
            "Requirement already satisfied: future in /usr/local/lib/python3.6/dist-packages (from pyglet>=1.2.0->gym)\n",
            "Building wheels for collected packages: gym\n",
            "  Running setup.py bdist_wheel for gym ... \u001b[?25l-\b \b\\\b \b|\b \b/\b \bdone\n",
            "\u001b[?25h  Stored in directory: /content/.cache/pip/wheels/cb/14/71/f4ab006b1e6ff75c2b54985c2f98d0644fffe9c1dddc670925\n",
            "Successfully built gym\n",
            "Installing collected packages: pyglet, gym\n",
            "Successfully installed gym-0.10.5 pyglet-1.3.2\n",
            "\u001b[33mYou are using pip version 9.0.3, however version 10.0.1 is available.\n",
            "You should consider upgrading via the 'pip install --upgrade pip' command.\u001b[0m\n",
            "Collecting torch==0.3.0.post4 from http://download.pytorch.org/whl/cu80/torch-0.3.0.post4-cp36-cp36m-linux_x86_64.whl\n",
            "  Downloading http://download.pytorch.org/whl/cu80/torch-0.3.0.post4-cp36-cp36m-linux_x86_64.whl (592.3MB)\n",
            "\u001b[K    14% |████▋                           | 85.4MB 58.1MB/s eta 0:00:09"
          ],
          "name": "stdout"
        },
        {
          "output_type": "stream",
          "text": [
            "\u001b[K    100% |████████████████████████████████| 592.3MB 49.9MB/s \n",
            "\u001b[?25hRequirement already satisfied: pyyaml in /usr/local/lib/python3.6/dist-packages (from torch==0.3.0.post4)\n",
            "Requirement already satisfied: numpy in /usr/local/lib/python3.6/dist-packages (from torch==0.3.0.post4)\n",
            "Installing collected packages: torch\n",
            "Successfully installed torch-0.3.0.post4\n",
            "\u001b[33mYou are using pip version 9.0.3, however version 10.0.1 is available.\n",
            "You should consider upgrading via the 'pip install --upgrade pip' command.\u001b[0m\n"
          ],
          "name": "stdout"
        }
      ]
    },
    {
      "metadata": {
        "id": "3DNc8vUON32m",
        "colab_type": "code",
        "colab": {
          "autoexec": {
            "startup": false,
            "wait_interval": 0
          }
        }
      },
      "cell_type": "code",
      "source": [
        "import argparse \n",
        "import gym\n",
        "import numpy as np\n",
        "import torch\n",
        "from itertools import count\n",
        "import matplotlib.pyplot as plt"
      ],
      "execution_count": 0,
      "outputs": []
    },
    {
      "metadata": {
        "id": "aIeS12XEWPZw",
        "colab_type": "code",
        "colab": {
          "autoexec": {
            "startup": false,
            "wait_interval": 0
          }
        }
      },
      "cell_type": "code",
      "source": [
        "import torch.nn as nn\n",
        "import torch.nn.functional as F\n",
        "import torch.optim as optim\n",
        "from torch.autograd import Variable\n",
        "from torch.distributions import Categorical"
      ],
      "execution_count": 0,
      "outputs": []
    },
    {
      "metadata": {
        "id": "UTh6FQIBOkmk",
        "colab_type": "code",
        "colab": {
          "autoexec": {
            "startup": false,
            "wait_interval": 0
          },
          "base_uri": "https://localhost:8080/",
          "height": 51
        },
        "outputId": "6ed27b8e-d808-432b-aa43-fbb510310a54",
        "executionInfo": {
          "status": "ok",
          "timestamp": 1524540745198,
          "user_tz": 240,
          "elapsed": 319,
          "user": {
            "displayName": "Khimya Khetarpal",
            "photoUrl": "//lh4.googleusercontent.com/-N2vm2KOF7iE/AAAAAAAAAAI/AAAAAAAACL8/3K7KcnaQmY0/s50-c-k-no/photo.jpg",
            "userId": "111336538593611088506"
          }
        }
      },
      "cell_type": "code",
      "source": [
        "env = gym.make('CartPole-v0')\n",
        "env.seed(543)\n",
        "\n",
        "gamma = 0.99\n",
        "torch.manual_seed(543)"
      ],
      "execution_count": 5,
      "outputs": [
        {
          "output_type": "stream",
          "text": [
            "\u001b[33mWARN: gym.spaces.Box autodetected dtype as <class 'numpy.float32'>. Please provide explicit dtype.\u001b[0m\n"
          ],
          "name": "stdout"
        },
        {
          "output_type": "execute_result",
          "data": {
            "text/plain": [
              "<torch._C.Generator at 0x7f876f299d90>"
            ]
          },
          "metadata": {
            "tags": []
          },
          "execution_count": 5
        }
      ]
    },
    {
      "metadata": {
        "id": "5SnCrFzjWHKh",
        "colab_type": "code",
        "colab": {
          "autoexec": {
            "startup": false,
            "wait_interval": 0
          }
        }
      },
      "cell_type": "code",
      "source": [
        "class Policy(nn.Module):\n",
        "  def __init__(self):\n",
        "    super(Policy, self).__init__()\n",
        "    self.layer1 = nn.Linear(4, 128)\n",
        "    self.layer2 = nn.Linear(128, 2)\n",
        "    \n",
        "    self.saved_log_probs = []\n",
        "    self.rewards = []\n",
        "    \n",
        "  def forward(self, x):\n",
        "    x = F.relu(self.layer1(x))\n",
        "    action_scores = self.layer2(x)\n",
        "    return F.softmax(action_scores, dim=1)   #returns the probabilities after softmax \n",
        "\n",
        "  \n",
        "policy = Policy()\n",
        "optimizer = optim.Adam(policy.parameters(), lr=1e-2)\n",
        "  \n",
        "  \n",
        "def select_action(state):\n",
        "  state = torch.from_numpy(state).float().unsqueeze(0)   #conver the numpy state to a torch tensor. #Unsqueeze returns a new tensor with a dimension of size one inserted at the specified position.\n",
        "  probs = policy(Variable(state))   #Create tensors to hold state and outputs, and wrap them in Variables #Policy runs the forward function\n",
        "  m = Categorical(probs)\n",
        "  action = m.sample()\n",
        "  policy.saved_log_probs.append(m.log_prob(action))\n",
        "  return action.data[0]\n",
        "  \n",
        "  \n",
        "def compute_returns_and_loss():\n",
        "  G = 0\n",
        "  policy_loss = []\n",
        "  rewards = []\n",
        "  for r in policy.rewards[::-1]:\n",
        "    G = r + gamma * G\n",
        "    rewards.insert(0, G)\n",
        "    #print(rewards)\n",
        "  G_per_episode = rewards[0]\n",
        "  rewards = torch.Tensor(rewards)\n",
        "  rewards = (rewards - rewards.mean()) / (rewards.std() + np.finfo(np.float32).eps) \n",
        "  for log_prob, reward in zip(policy.saved_log_probs, rewards):\n",
        "    policy_loss.append(- log_prob * reward)\n",
        "  optimizer.zero_grad()\n",
        "  policy_loss = torch.cat(policy_loss).sum()\n",
        "  optimizer.step()\n",
        "  del policy.rewards[:]\n",
        "  del policy.saved_log_probs[:]\n",
        "  return G_per_episode"
      ],
      "execution_count": 0,
      "outputs": []
    },
    {
      "metadata": {
        "id": "5wf_HrVW3L9D",
        "colab_type": "code",
        "colab": {
          "autoexec": {
            "startup": false,
            "wait_interval": 0
          }
        }
      },
      "cell_type": "code",
      "source": [
        "def main():\n",
        "  sum_reward = 0\n",
        "  G_episode_wise = []\n",
        "  sum_reward_running_episodes = []\n",
        "  for episode in count(1):\n",
        "    state = env.reset()\n",
        "    sum_reward_running = 0\n",
        "    for timestep in range(200):\n",
        "      action = select_action(state)\n",
        "      state, reward, done, _ = env.step(action)\n",
        "      sum_reward +=  reward\n",
        "      if flagtorender == 'true':\n",
        "        env.render()\n",
        "      policy.rewards.append(reward) #Generate an episode So, Ao, R1, S1, A1, R2......\n",
        "      if done:\n",
        "        break\n",
        "          \n",
        "    G_current_episode = compute_returns_and_loss()\n",
        "    G_episode_wise.append(G_current_episode)    \n",
        "    sum_reward_running = sum_reward_running * 0.95 + sum_reward * 0.05\n",
        "    sum_reward_running_episodes.append(sum_reward_running)\n",
        "    \n",
        "    plt.plot(range(episode), sum_reward_running_episodes, linewidth=3)\n",
        "    if sum_reward_running > reward_threshold:\n",
        "      print('%d running reward: %f' % (episode, sum_reward_running))\n",
        "      break\n",
        "  \n",
        "  \n",
        "  plt.xlabel(\"Episodes\", fontsize=14)\n",
        "  plt.ylabel(\"Total Reward for Each Episode\", fontsize=14)\n",
        "  plt.title(\"REINFORCE on Cartpole - Returns vs episode\", fontsize=14)\n",
        "  plt.show()\n",
        "    "
      ],
      "execution_count": 0,
      "outputs": []
    },
    {
      "metadata": {
        "id": "-jUR36hKoPhQ",
        "colab_type": "code",
        "colab": {
          "autoexec": {
            "startup": false,
            "wait_interval": 0
          },
          "base_uri": "https://localhost:8080/",
          "height": 399
        },
        "outputId": "4179253b-f1bf-4b34-8b83-8138a3e6fcee",
        "executionInfo": {
          "status": "ok",
          "timestamp": 1524542986530,
          "user_tz": 240,
          "elapsed": 1931,
          "user": {
            "displayName": "Khimya Khetarpal",
            "photoUrl": "//lh4.googleusercontent.com/-N2vm2KOF7iE/AAAAAAAAAAI/AAAAAAAACL8/3K7KcnaQmY0/s50-c-k-no/photo.jpg",
            "userId": "111336538593611088506"
          }
        }
      },
      "cell_type": "code",
      "source": [
        "flagtorender = 'false'\n",
        "reward_threshold = 200\n",
        "main()"
      ],
      "execution_count": 27,
      "outputs": [
        {
          "output_type": "stream",
          "text": [
            "195 running reward: 201.500000\n"
          ],
          "name": "stdout"
        },
        {
          "output_type": "display_data",
          "data": {
            "image/png": "[encoded data removed]",
            "text/plain": [
              "<matplotlib.figure.Figure at 0x7f8732ef88d0>"
            ]
          },
          "metadata": {
            "tags": []
          }
        }
      ]
    }
  ]
}